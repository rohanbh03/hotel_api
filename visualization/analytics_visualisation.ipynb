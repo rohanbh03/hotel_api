{
 "cells": [
  {
   "cell_type": "code",
   "execution_count": 2,
   "id": "df3c583c",
   "metadata": {},
   "outputs": [
    {
     "name": "stdout",
     "output_type": "stream",
     "text": [
      "Initial Data Overview:\n",
      "<class 'pandas.core.frame.DataFrame'>\n",
      "RangeIndex: 119390 entries, 0 to 119389\n",
      "Data columns (total 32 columns):\n",
      " #   Column                          Non-Null Count   Dtype  \n",
      "---  ------                          --------------   -----  \n",
      " 0   hotel                           119390 non-null  object \n",
      " 1   is_canceled                     119390 non-null  int64  \n",
      " 2   lead_time                       119390 non-null  int64  \n",
      " 3   arrival_date_year               119390 non-null  int64  \n",
      " 4   arrival_date_month              119390 non-null  object \n",
      " 5   arrival_date_week_number        119390 non-null  int64  \n",
      " 6   arrival_date_day_of_month       119390 non-null  int64  \n",
      " 7   stays_in_weekend_nights         119390 non-null  int64  \n",
      " 8   stays_in_week_nights            119390 non-null  int64  \n",
      " 9   adults                          119390 non-null  int64  \n",
      " 10  children                        119386 non-null  float64\n",
      " 11  babies                          119390 non-null  int64  \n",
      " 12  meal                            119390 non-null  object \n",
      " 13  country                         118902 non-null  object \n",
      " 14  market_segment                  119390 non-null  object \n",
      " 15  distribution_channel            119390 non-null  object \n",
      " 16  is_repeated_guest               119390 non-null  int64  \n",
      " 17  previous_cancellations          119390 non-null  int64  \n",
      " 18  previous_bookings_not_canceled  119390 non-null  int64  \n",
      " 19  reserved_room_type              119390 non-null  object \n",
      " 20  assigned_room_type              119390 non-null  object \n",
      " 21  booking_changes                 119390 non-null  int64  \n",
      " 22  deposit_type                    119390 non-null  object \n",
      " 23  agent                           103050 non-null  float64\n",
      " 24  company                         6797 non-null    float64\n",
      " 25  days_in_waiting_list            119390 non-null  int64  \n",
      " 26  customer_type                   119390 non-null  object \n",
      " 27  adr                             119390 non-null  float64\n",
      " 28  required_car_parking_spaces     119390 non-null  int64  \n",
      " 29  total_of_special_requests       119390 non-null  int64  \n",
      " 30  reservation_status              119390 non-null  object \n",
      " 31  reservation_status_date         119390 non-null  object \n",
      "dtypes: float64(4), int64(16), object(12)\n",
      "memory usage: 29.1+ MB\n",
      "None\n",
      "\n",
      "Missing Values Count:\n",
      "hotel                                  0\n",
      "is_canceled                            0\n",
      "lead_time                              0\n",
      "arrival_date_year                      0\n",
      "arrival_date_month                     0\n",
      "arrival_date_week_number               0\n",
      "arrival_date_day_of_month              0\n",
      "stays_in_weekend_nights                0\n",
      "stays_in_week_nights                   0\n",
      "adults                                 0\n",
      "children                               4\n",
      "babies                                 0\n",
      "meal                                   0\n",
      "country                              488\n",
      "market_segment                         0\n",
      "distribution_channel                   0\n",
      "is_repeated_guest                      0\n",
      "previous_cancellations                 0\n",
      "previous_bookings_not_canceled         0\n",
      "reserved_room_type                     0\n",
      "assigned_room_type                     0\n",
      "booking_changes                        0\n",
      "deposit_type                           0\n",
      "agent                              16340\n",
      "company                           112593\n",
      "days_in_waiting_list                   0\n",
      "customer_type                          0\n",
      "adr                                    0\n",
      "required_car_parking_spaces            0\n",
      "total_of_special_requests              0\n",
      "reservation_status                     0\n",
      "reservation_status_date                0\n",
      "dtype: int64\n"
     ]
    }
   ],
   "source": [
    "import pandas as pd\n",
    "\n",
    "# Load the dataset\n",
    "file_path = 'hotel_bookings.csv'\n",
    "data = pd.read_csv(file_path)\n",
    "\n",
    "# Display basic info\n",
    "print(\"Initial Data Overview:\")\n",
    "print(data.info())\n",
    "print(\"\\nMissing Values Count:\")\n",
    "print(data.isnull().sum())\n",
    "\n",
    "# --- Data Cleaning ---\n",
    "# 1. Handle missing values\n",
    "# Replace missing numerical values with median and categorical with mode\n",
    "for col in data.columns:\n",
    "    if data[col].dtype == 'object':  # Categorical\n",
    "        data[col].fillna(data[col].mode()[0], inplace=True)\n",
    "    else:  # Numerical\n",
    "        data[col].fillna(data[col].median(), inplace=True)\n",
    "\n",
    "# 2. Fix format inconsistencies\n",
    "# Example: Convert dates to datetime format\n",
    "date_cols = ['reservation_status_date', 'arrival_date_year']\n",
    "if 'reservation_status_date' in data.columns:\n",
    "    data['reservation_status_date'] = pd.to_datetime(data['reservation_status_date'], errors='coerce')\n"
   ]
  },
  {
   "cell_type": "code",
   "execution_count": 8,
   "id": "de7a6fae",
   "metadata": {},
   "outputs": [],
   "source": [
    "output_path = 'cleaned_hotel_bookings.csv'\n",
    "data.to_csv(output_path, index=False)\n"
   ]
  },
  {
   "cell_type": "code",
   "execution_count": 9,
   "id": "9c9491c1",
   "metadata": {},
   "outputs": [
    {
     "data": {
      "image/png": "[encoded data removed]",
      "text/plain": [
       "<Figure size 864x432 with 1 Axes>"
      ]
     },
     "metadata": {},
     "output_type": "display_data"
    },
    {
     "name": "stdout",
     "output_type": "stream",
     "text": [
      "Cancellation Rate: 37.04%\n"
     ]
    },
    {
     "data": {
      "image/png": "[encoded data removed]",
      "text/plain": [
       "<Figure size 864x432 with 1 Axes>"
      ]
     },
     "metadata": {},
     "output_type": "display_data"
    },
    {
     "data": {
      "image/png": "[encoded data removed]",
      "text/plain": [
       "<Figure size 864x432 with 1 Axes>"
      ]
     },
     "metadata": {},
     "output_type": "display_data"
    },
    {
     "data": {
      "image/png": "[encoded data removed]",
      "text/plain": [
       "<Figure size 864x432 with 1 Axes>"
      ]
     },
     "metadata": {},
     "output_type": "display_data"
    }
   ],
   "source": [
    "import pandas as pd\n",
    "import matplotlib.pyplot as plt\n",
    "import seaborn as sns\n",
    "\n",
    "# Load the cleaned data\n",
    "file_path = 'cleaned_hotel_bookings.csv'\n",
    "data = pd.read_csv(file_path)\n",
    "\n",
    "# Set plot style\n",
    "sns.set(style=\"whitegrid\")\n",
    "\n",
    "# --- 1. Revenue Trends Over Time ---\n",
    "# Create revenue column\n",
    "data['revenue'] = (data['stays_in_weekend_nights'] + data['stays_in_week_nights']) * data['adr']\n",
    "\n",
    "# Group by month-year\n",
    "data['month_year'] = pd.to_datetime(data['reservation_status_date']).dt.to_period('M').astype(str)  # Convert to str\n",
    "revenue_trends = data.groupby('month_year')['revenue'].sum().reset_index()\n",
    "\n",
    "# Plot revenue trends\n",
    "plt.figure(figsize=(12, 6))\n",
    "sns.lineplot(x='month_year', y='revenue', data=revenue_trends, marker='o', color='blue')\n",
    "plt.title('Revenue Trends Over Time')\n",
    "plt.xticks(rotation=45)\n",
    "plt.ylabel('Total Revenue')\n",
    "plt.xlabel('Month-Year')\n",
    "plt.show()\n",
    "\n",
    "# --- 2. Cancellation Rate ---\n",
    "canceled = len(data[data['is_canceled'] == 1])\n",
    "total_bookings = len(data)\n",
    "cancellation_rate = (canceled / total_bookings) * 100\n",
    "\n",
    "print(f\"Cancellation Rate: {cancellation_rate:.2f}%\")\n",
    "\n",
    "# --- 3. Geographical Distribution ---\n",
    "plt.figure(figsize=(12, 6))\n",
    "country_counts = data['country'].value_counts().head(15)  # Top 15 countries\n",
    "sns.barplot(x=country_counts.index, y=country_counts.values, palette='viridis')\n",
    "plt.title('Geographical Distribution of Bookings')\n",
    "plt.ylabel('Number of Bookings')\n",
    "plt.xlabel('Country')\n",
    "plt.xticks(rotation=45)\n",
    "plt.show()\n",
    "\n",
    "# --- 4. Booking Lead Time Distribution ---\n",
    "plt.figure(figsize=(12, 6))\n",
    "sns.histplot(data['lead_time'], bins=50, color='skyblue', kde=True)\n",
    "plt.title('Booking Lead Time Distribution')\n",
    "plt.xlabel('Lead Time (Days)')\n",
    "plt.ylabel('Frequency')\n",
    "plt.show()\n",
    "\n",
    "# --- 5. Additional Analytics: ADR Distribution by Market Segment ---\n",
    "plt.figure(figsize=(12, 6))\n",
    "sns.boxplot(x='market_segment', y='adr', data=data, palette='pastel')\n",
    "plt.title('ADR Distribution by Market Segment')\n",
    "plt.xticks(rotation=45)\n",
    "plt.ylabel('Average Daily Rate (ADR)')\n",
    "plt.xlabel('Market Segment')\n",
    "plt.show()\n"
   ]
  },
  {
   "cell_type": "code",
   "execution_count": 12,
   "id": "12cabc1a",
   "metadata": {},
   "outputs": [
    {
     "name": "stdout",
     "output_type": "stream",
     "text": [
      "Defaulting to user installation because normal site-packages is not writeableNote: you may need to restart the kernel to use updated packages.\n",
      "\n",
      "Requirement already satisfied: pandas in c:\\programdata\\anaconda3\\lib\\site-packages (1.4.2)\n",
      "Collecting faiss-cpu\n",
      "  Using cached faiss_cpu-1.10.0-cp39-cp39-win_amd64.whl (13.7 MB)\n",
      "Collecting sentence-transformers\n",
      "  Using cached sentence_transformers-3.4.1-py3-none-any.whl (275 kB)\n",
      "Requirement already satisfied: transformers in c:\\users\\rohan\\appdata\\roaming\\python\\python39\\site-packages (4.42.3)\n",
      "Requirement already satisfied: torch in c:\\users\\rohan\\appdata\\roaming\\python\\python39\\site-packages (2.2.2)\n",
      "Requirement already satisfied: python-dateutil>=2.8.1 in c:\\programdata\\anaconda3\\lib\\site-packages (from pandas) (2.8.2)\n",
      "Requirement already satisfied: numpy>=1.18.5 in c:\\users\\rohan\\appdata\\roaming\\python\\python39\\site-packages (from pandas) (1.26.4)\n",
      "Requirement already satisfied: pytz>=2020.1 in c:\\programdata\\anaconda3\\lib\\site-packages (from pandas) (2021.3)\n",
      "Requirement already satisfied: packaging in c:\\programdata\\anaconda3\\lib\\site-packages (from faiss-cpu) (21.3)\n",
      "Requirement already satisfied: Pillow in c:\\users\\rohan\\appdata\\roaming\\python\\python39\\site-packages (from sentence-transformers) (10.2.0)\n",
      "Requirement already satisfied: tqdm in c:\\programdata\\anaconda3\\lib\\site-packages (from sentence-transformers) (4.64.0)\n",
      "Requirement already satisfied: huggingface-hub>=0.20.0 in c:\\users\\rohan\\appdata\\roaming\\python\\python39\\site-packages (from sentence-transformers) (0.23.4)\n",
      "Requirement already satisfied: scipy in c:\\users\\rohan\\appdata\\roaming\\python\\python39\\site-packages (from sentence-transformers) (1.13.1)\n",
      "Requirement already satisfied: scikit-learn in c:\\programdata\\anaconda3\\lib\\site-packages (from sentence-transformers) (1.0.2)\n",
      "Requirement already satisfied: filelock in c:\\programdata\\anaconda3\\lib\\site-packages (from transformers) (3.6.0)\n",
      "Requirement already satisfied: regex!=2019.12.17 in c:\\programdata\\anaconda3\\lib\\site-packages (from transformers) (2022.3.15)\n",
      "Requirement already satisfied: safetensors>=0.4.1 in c:\\users\\rohan\\appdata\\roaming\\python\\python39\\site-packages (from transformers) (0.4.3)\n",
      "Requirement already satisfied: pyyaml>=5.1 in c:\\programdata\\anaconda3\\lib\\site-packages (from transformers) (6.0)\n",
      "Requirement already satisfied: tokenizers<0.20,>=0.19 in c:\\users\\rohan\\appdata\\roaming\\python\\python39\\site-packages (from transformers) (0.19.1)\n",
      "Requirement already satisfied: requests in c:\\programdata\\anaconda3\\lib\\site-packages (from transformers) (2.27.1)\n",
      "Requirement already satisfied: jinja2 in c:\\programdata\\anaconda3\\lib\\site-packages (from torch) (2.11.3)\n",
      "Requirement already satisfied: sympy in c:\\programdata\\anaconda3\\lib\\site-packages (from torch) (1.10.1)\n",
      "Requirement already satisfied: fsspec in c:\\users\\rohan\\appdata\\roaming\\python\\python39\\site-packages (from torch) (2024.6.1)\n",
      "Requirement already satisfied: typing-extensions>=4.8.0 in c:\\users\\rohan\\appdata\\roaming\\python\\python39\\site-packages (from torch) (4.12.2)\n",
      "Requirement already satisfied: networkx in c:\\programdata\\anaconda3\\lib\\site-packages (from torch) (2.7.1)\n",
      "Requirement already satisfied: pyparsing!=3.0.5,>=2.0.2 in c:\\programdata\\anaconda3\\lib\\site-packages (from packaging->faiss-cpu) (3.0.4)\n",
      "Requirement already satisfied: six>=1.5 in c:\\programdata\\anaconda3\\lib\\site-packages (from python-dateutil>=2.8.1->pandas) (1.16.0)\n",
      "Requirement already satisfied: colorama in c:\\programdata\\anaconda3\\lib\\site-packages (from tqdm->sentence-transformers) (0.4.4)\n",
      "Requirement already satisfied: MarkupSafe>=0.23 in c:\\programdata\\anaconda3\\lib\\site-packages (from jinja2->torch) (2.0.1)\n",
      "Requirement already satisfied: urllib3<1.27,>=1.21.1 in c:\\programdata\\anaconda3\\lib\\site-packages (from requests->transformers) (1.26.9)\n",
      "Requirement already satisfied: certifi>=2017.4.17 in c:\\programdata\\anaconda3\\lib\\site-packages (from requests->transformers) (2021.10.8)\n",
      "Requirement already satisfied: idna<4,>=2.5 in c:\\programdata\\anaconda3\\lib\\site-packages (from requests->transformers) (3.3)\n",
      "Requirement already satisfied: charset-normalizer~=2.0.0 in c:\\programdata\\anaconda3\\lib\\site-packages (from requests->transformers) (2.0.4)\n",
      "Requirement already satisfied: joblib>=0.11 in c:\\users\\rohan\\appdata\\roaming\\python\\python39\\site-packages (from scikit-learn->sentence-transformers) (1.4.2)\n",
      "Requirement already satisfied: threadpoolctl>=2.0.0 in c:\\programdata\\anaconda3\\lib\\site-packages (from scikit-learn->sentence-transformers) (2.2.0)\n",
      "Requirement already satisfied: mpmath>=0.19 in c:\\programdata\\anaconda3\\lib\\site-packages (from sympy->torch) (1.2.1)\n",
      "Installing collected packages: sentence-transformers, faiss-cpu\n",
      "Successfully installed faiss-cpu-1.10.0 sentence-transformers-3.4.1\n"
     ]
    }
   ],
   "source": [
    "pip install pandas faiss-cpu sentence-transformers transformers torch\n"
   ]
  },
  {
   "cell_type": "code",
   "execution_count": 13,
   "id": "a26db28f",
   "metadata": {
    "scrolled": false
   },
   "outputs": [
    {
     "data": {
      "application/vnd.jupyter.widget-view+json": {
       "model_id": "faf91a3cf98345bc8189826343533530",
       "version_major": 2,
       "version_minor": 0
      },
      "text/plain": [
       "modules.json:   0%|          | 0.00/349 [00:00<?, ?B/s]"
      ]
     },
     "metadata": {},
     "output_type": "display_data"
    },
    {
     "data": {
      "application/vnd.jupyter.widget-view+json": {
       "model_id": "348310c7afb143728288ce0a0a8f384e",
       "version_major": 2,
       "version_minor": 0
      },
      "text/plain": [
       "config_sentence_transformers.json:   0%|          | 0.00/116 [00:00<?, ?B/s]"
      ]
     },
     "metadata": {},
     "output_type": "display_data"
    },
    {
     "data": {
      "application/vnd.jupyter.widget-view+json": {
       "model_id": "669758de99bc4ba4b5e0d4c23625159f",
       "version_major": 2,
       "version_minor": 0
      },
      "text/plain": [
       "README.md:   0%|          | 0.00/10.5k [00:00<?, ?B/s]"
      ]
     },
     "metadata": {},
     "output_type": "display_data"
    },
    {
     "data": {
      "application/vnd.jupyter.widget-view+json": {
       "model_id": "be6e5c486a314cd9815f573d50f8387d",
       "version_major": 2,
       "version_minor": 0
      },
      "text/plain": [
       "sentence_bert_config.json:   0%|          | 0.00/53.0 [00:00<?, ?B/s]"
      ]
     },
     "metadata": {},
     "output_type": "display_data"
    },
    {
     "data": {
      "application/vnd.jupyter.widget-view+json": {
       "model_id": "2b3815c6e1824c20941ae00bca1b81a6",
       "version_major": 2,
       "version_minor": 0
      },
      "text/plain": [
       "config.json:   0%|          | 0.00/612 [00:00<?, ?B/s]"
      ]
     },
     "metadata": {},
     "output_type": "display_data"
    },
    {
     "data": {
      "application/vnd.jupyter.widget-view+json": {
       "model_id": "f3bfa91bf6d04592a162631bd5470f1d",
       "version_major": 2,
       "version_minor": 0
      },
      "text/plain": [
       "model.safetensors:   0%|          | 0.00/90.9M [00:00<?, ?B/s]"
      ]
     },
     "metadata": {},
     "output_type": "display_data"
    },
    {
     "data": {
      "application/vnd.jupyter.widget-view+json": {
       "model_id": "bbc921f6d3934f5fbab8806c87c96fbb",
       "version_major": 2,
       "version_minor": 0
      },
      "text/plain": [
       "tokenizer_config.json:   0%|          | 0.00/350 [00:00<?, ?B/s]"
      ]
     },
     "metadata": {},
     "output_type": "display_data"
    },
    {
     "data": {
      "application/vnd.jupyter.widget-view+json": {
       "model_id": "d99ff6807d0c42fd8c6a681df388a37e",
       "version_major": 2,
       "version_minor": 0
      },
      "text/plain": [
       "vocab.txt:   0%|          | 0.00/232k [00:00<?, ?B/s]"
      ]
     },
     "metadata": {},
     "output_type": "display_data"
    },
    {
     "data": {
      "application/vnd.jupyter.widget-view+json": {
       "model_id": "dcf3c85f816e41edac03d4b12438a6c8",
       "version_major": 2,
       "version_minor": 0
      },
      "text/plain": [
       "tokenizer.json:   0%|          | 0.00/466k [00:00<?, ?B/s]"
      ]
     },
     "metadata": {},
     "output_type": "display_data"
    },
    {
     "data": {
      "application/vnd.jupyter.widget-view+json": {
       "model_id": "0ee097aba43640b3a22a9c3951df369d",
       "version_major": 2,
       "version_minor": 0
      },
      "text/plain": [
       "special_tokens_map.json:   0%|          | 0.00/112 [00:00<?, ?B/s]"
      ]
     },
     "metadata": {},
     "output_type": "display_data"
    },
    {
     "data": {
      "application/vnd.jupyter.widget-view+json": {
       "model_id": "83be2006cb5d49178470e0880af352c9",
       "version_major": 2,
       "version_minor": 0
      },
      "text/plain": [
       "config.json:   0%|          | 0.00/190 [00:00<?, ?B/s]"
      ]
     },
     "metadata": {},
     "output_type": "display_data"
    },
    {
     "name": "stdout",
     "output_type": "stream",
     "text": [
      "\n",
      "Example Queries:\n",
      "\n",
      "Question: Show me total revenue for July 2017.\n"
     ]
    },
    {
     "data": {
      "application/vnd.jupyter.widget-view+json": {
       "model_id": "b448a8bf4f424bacbf742f9f4a3a5244",
       "version_major": 2,
       "version_minor": 0
      },
      "text/plain": [
       "config.json:   0%|          | 0.00/1.35k [00:00<?, ?B/s]"
      ]
     },
     "metadata": {},
     "output_type": "display_data"
    },
    {
     "data": {
      "application/vnd.jupyter.widget-view+json": {
       "model_id": "3a7d2ef07164418b9479cd7dd5976e2b",
       "version_major": 2,
       "version_minor": 0
      },
      "text/plain": [
       "model.safetensors:   0%|          | 0.00/5.31G [00:00<?, ?B/s]"
      ]
     },
     "metadata": {},
     "output_type": "display_data"
    },
    {
     "data": {
      "application/vnd.jupyter.widget-view+json": {
       "model_id": "4bad3c584c4b43729039a82154bd35f9",
       "version_major": 2,
       "version_minor": 0
      },
      "text/plain": [
       "tokenizer_config.json:   0%|          | 0.00/200 [00:00<?, ?B/s]"
      ]
     },
     "metadata": {},
     "output_type": "display_data"
    },
    {
     "data": {
      "application/vnd.jupyter.widget-view+json": {
       "model_id": "f1da2e4d6b214ccb95d668dfcc32e3d2",
       "version_major": 2,
       "version_minor": 0
      },
      "text/plain": [
       "vocab.json:   0%|          | 0.00/798k [00:00<?, ?B/s]"
      ]
     },
     "metadata": {},
     "output_type": "display_data"
    },
    {
     "data": {
      "application/vnd.jupyter.widget-view+json": {
       "model_id": "be9aef713b774aa3a4ae22391d087bd6",
       "version_major": 2,
       "version_minor": 0
      },
      "text/plain": [
       "merges.txt:   0%|          | 0.00/456k [00:00<?, ?B/s]"
      ]
     },
     "metadata": {},
     "output_type": "display_data"
    },
    {
     "data": {
      "application/vnd.jupyter.widget-view+json": {
       "model_id": "9eb88b69fe3e46ca92bf834106ccf93f",
       "version_major": 2,
       "version_minor": 0
      },
      "text/plain": [
       "special_tokens_map.json:   0%|          | 0.00/90.0 [00:00<?, ?B/s]"
      ]
     },
     "metadata": {},
     "output_type": "display_data"
    },
    {
     "name": "stderr",
     "output_type": "stream",
     "text": [
      "Truncation was not explicitly activated but `max_length` is provided a specific value, please use `truncation=True` to explicitly truncate examples to max length. Defaulting to 'longest_first' truncation strategy. If you encode pairs of sequences (GLUE-style) with the tokenizer you can select this strategy more precisely by providing a specific strategy to `truncation`.\n",
      "Setting `pad_token_id` to `eos_token_id`:50256 for open-end generation.\n"
     ]
    },
    {
     "name": "stdout",
     "output_type": "stream",
     "text": [
      "Answer: Context:\n",
      "Booking made from PER on 2017-06-19. Stayed for 1 weekend nights and 0 weekday nights. Lead time: 1 days. Market Segment: Direct. ADR: 150.0. Booking status: Confirmed.\n",
      "Booking made from PER on 2017-06-19. Stayed for 1 weekend nights and 0 weekday nights. Lead time: 1 days. Market Segment: Direct. ADR: 150.0. Booking status: Confirmed.\n",
      "Booking made from PER on 2017-12-03. Stayed for 0 weekend nights and 2 weekday nights. Lead time: 2 days. Market Segment: Direct. ADR: 243.0. Booking status: Confirmed.\n",
      "Booking made from PER on 2016-05-24. Stayed for 2 weekend nights and 5 weekday nights. Lead time: 1 days. Market Segment: Online TA. ADR: 148.04. Booking status: Cancelled.\n",
      "Booking made from PER on 2017-06-03. Stayed for 0 weekend nights and 2 weekday nights. Lead time: 11 days. Market Segment: Direct. ADR: 123.0. Booking status: Cancelled.\n",
      "\n",
      "Question: Show me total revenue for July 2017.\n",
      "Answer:\n",
      "\n",
      "Question: I have a booking made from PER on 2017-06-19. Stayed for 3 nights, and was booked by an online travel agent\n",
      "\n",
      "Question: Which locations had the highest booking cancellations?\n"
     ]
    },
    {
     "name": "stderr",
     "output_type": "stream",
     "text": [
      "Truncation was not explicitly activated but `max_length` is provided a specific value, please use `truncation=True` to explicitly truncate examples to max length. Defaulting to 'longest_first' truncation strategy. If you encode pairs of sequences (GLUE-style) with the tokenizer you can select this strategy more precisely by providing a specific strategy to `truncation`.\n",
      "Setting `pad_token_id` to `eos_token_id`:50256 for open-end generation.\n"
     ]
    },
    {
     "name": "stdout",
     "output_type": "stream",
     "text": [
      "Answer: Context:\n",
      "Booking made from USA on 2017-04-27. Stayed for 1 weekend nights and 0 weekday nights. Lead time: 64 days. Market Segment: Direct. ADR: 265.0. Booking status: Cancelled.\n",
      "Booking made from USA on 2017-04-04. Stayed for 2 weekend nights and 5 weekday nights. Lead time: 77 days. Market Segment: Direct. ADR: 311.0. Booking status: Cancelled.\n",
      "Booking made from USA on 2017-04-08. Stayed for 2 weekend nights and 3 weekday nights. Lead time: 76 days. Market Segment: Direct. ADR: 265.0. Booking status: Cancelled.\n",
      "Booking made from USA on 2016-01-09. Stayed for 2 weekend nights and 6 weekday nights. Lead time: 74 days. Market Segment: Direct. ADR: 155.5. Booking status: Cancelled.\n",
      "Booking made from USA on 2017-03-23. Stayed for 0 weekend nights and 1 weekday nights. Lead time: 316 days. Market Segment: Direct. ADR: 93.5. Booking status: Cancelled.\n",
      "\n",
      "Question: Which locations had the highest booking cancellations?\n",
      "Answer:\n",
      "Booking made from USA on 2017-03-30. Stayed for 1 weekend night and 1 day. Lead time: 76 days. Market Segment\n",
      "\n",
      "Question: What is the average price of a hotel booking?\n"
     ]
    },
    {
     "name": "stderr",
     "output_type": "stream",
     "text": [
      "Truncation was not explicitly activated but `max_length` is provided a specific value, please use `truncation=True` to explicitly truncate examples to max length. Defaulting to 'longest_first' truncation strategy. If you encode pairs of sequences (GLUE-style) with the tokenizer you can select this strategy more precisely by providing a specific strategy to `truncation`.\n",
      "Setting `pad_token_id` to `eos_token_id`:50256 for open-end generation.\n"
     ]
    },
    {
     "name": "stdout",
     "output_type": "stream",
     "text": [
      "Answer: Context:\n",
      "Booking made from USA on 2017-10-01. Stayed for 1 weekend nights and 0 weekday nights. Lead time: 0 days. Market Segment: Online TA. ADR: 30.99. Booking status: Confirmed.\n",
      "Booking made from USA on 2015-11-10. Stayed for 0 weekend nights and 4 weekday nights. Lead time: 0 days. Market Segment: Online TA. ADR: 159.75. Booking status: Confirmed.\n",
      "Booking made from USA on 2015-11-14. Stayed for 0 weekend nights and 1 weekday nights. Lead time: 109 days. Market Segment: Direct. ADR: 74.8. Booking status: Confirmed.\n",
      "Booking made from USA on 2016-05-20. Stayed for 1 weekend nights and 3 weekday nights. Lead time: 5 days. Market Segment: Corporate. ADR: 98.32. Booking status: Confirmed.\n",
      "Booking made from USA on 2017-06-25. Stayed for 0 weekend nights and 1 weekday nights. Lead time: 149 days. Market Segment: Corporate. ADR: 154.0. Booking status: Confirmed.\n",
      "\n",
      "Question: What is the average price of a hotel booking?\n",
      "Answer:\n",
      "\n",
      "We take a look at the average price of a hotel booking. This is a way of getting an accurate picture of the price range of\n"
     ]
    }
   ],
   "source": [
    "import pandas as pd\n",
    "import faiss\n",
    "import numpy as np\n",
    "from sentence_transformers import SentenceTransformer\n",
    "from transformers import pipeline\n",
    "\n",
    "# --- 1. Load the Cleaned Data ---\n",
    "file_path = 'cleaned_hotel_bookings.csv'\n",
    "data = pd.read_csv(file_path)\n",
    "\n",
    "# --- 2. Create Natural Language Representations of Booking Data ---\n",
    "def convert_to_text(row):\n",
    "    \"\"\"Convert a row of booking data into readable text format\"\"\"\n",
    "    text = (\n",
    "        f\"Booking made from {row['country']} on {row['reservation_status_date']}. \"\n",
    "        f\"Stayed for {row['stays_in_weekend_nights']} weekend nights and {row['stays_in_week_nights']} weekday nights. \"\n",
    "        f\"Lead time: {row['lead_time']} days. \"\n",
    "        f\"Market Segment: {row['market_segment']}. \"\n",
    "        f\"ADR: {row['adr']}. \"\n",
    "        f\"Booking status: {'Cancelled' if row['is_canceled'] == 1 else 'Confirmed'}.\"\n",
    "    )\n",
    "    return text\n",
    "\n",
    "# Convert entire dataset to text\n",
    "data['text'] = data.apply(convert_to_text, axis=1)\n",
    "\n",
    "# --- 3. Create Embeddings ---\n",
    "model = SentenceTransformer('sentence-transformers/all-MiniLM-L6-v2')\n",
    "embeddings = model.encode(data['text'].tolist(), convert_to_tensor=False)\n",
    "\n",
    "# --- 4. Store Embeddings in FAISS ---\n",
    "dimension = embeddings.shape[1]\n",
    "index = faiss.IndexFlatL2(dimension)  # L2 distance index\n",
    "index.add(np.array(embeddings))\n",
    "\n",
    "# --- 5. Define the RAG Q&A Function ---\n",
    "def retrieve_answer(question, top_k=5):\n",
    "    \"\"\"Retrieve relevant booking data using FAISS and generate an answer with LLM\"\"\"\n",
    "    \n",
    "    # Generate question embedding\n",
    "    question_embedding = model.encode([question], convert_to_tensor=False)\n",
    "    \n",
    "    # Search in FAISS index\n",
    "    distances, indices = index.search(np.array(question_embedding), top_k)\n",
    "    \n",
    "    # Retrieve relevant rows\n",
    "    relevant_texts = [data['text'][i] for i in indices[0]]\n",
    "    \n",
    "    # Prepare context for the LLM\n",
    "    context = \"\\n\".join(relevant_texts)\n",
    "    \n",
    "    # Use LLM to answer the question\n",
    "    llm = pipeline(\"text-generation\", model=\"EleutherAI/gpt-neo-1.3B\")\n",
    "    prompt = f\"Context:\\n{context}\\n\\nQuestion: {question}\\nAnswer:\"\n",
    "    result = llm(prompt, max_length=300, do_sample=True, temperature=0.7)[0]['generated_text']\n",
    "    \n",
    "    return result\n",
    "\n",
    "# --- 6. Example Queries ---\n",
    "print(\"\\nExample Queries:\")\n",
    "queries = [\n",
    "    \"Show me total revenue for July 2017.\",\n",
    "    \"Which locations had the highest booking cancellations?\",\n",
    "    \"What is the average price of a hotel booking?\"\n",
    "]\n",
    "\n",
    "for query in queries:\n",
    "    print(f\"\\nQuestion: {query}\")\n",
    "    answer = retrieve_answer(query)\n",
    "    print(f\"Answer: {answer}\")\n"
   ]
  },
  {
   "cell_type": "code",
   "execution_count": 14,
   "id": "64200ec8",
   "metadata": {},
   "outputs": [
    {
     "name": "stdout",
     "output_type": "stream",
     "text": [
      "\n",
      "Example Queries:\n",
      "\n",
      "Question: Show me total revenue for July 2017.\n",
      "Answer: Context:\n",
      "Booking made from PER on 2017-06-19. Stayed for 1 weekend nights and 0 weekday nights. Lead time: 1 days. Market Segment: Direct. ADR: 150.0. Booking status: Confirmed.\n",
      "Booking made from PER on 2017-06-19. Stayed for 1 weekend nights and 0 weekday nights. Lead time: 1 days. Market Segment: Direct. ADR: 150.0. Booking status: Confirmed.\n",
      "Booking made from PER on 2017-12-03. Stayed for 0 weekend nights and 2 weekday nights. Lead time: 2 days. Market Segment: Direct. ADR: 243.0. Booking status: Confirmed.\n",
      "Booking made from PER on 2016-05-24. Stayed for 2 weekend nights and 5 weekday nights. Lead time: 1 days. Market Segment: Online TA. ADR: 148.04. Booking status: Cancelled.\n",
      "Booking made from PER on 2017-06-03. Stayed for 0 weekend nights and 2 weekday nights. Lead time: 11 days. Market Segment: Direct. ADR: 123.0. Booking status: Cancelled.\n",
      "\n",
      "Question: Show me total revenue for July 2017.\n",
      "Answer:\n",
      "Booking made from PER on 2017-06-18. Stayed for 1 weekend nights and 0 weekday nights. Lead time: 1 days. Market Se\n",
      "\n",
      "Question: Which locations had the highest booking cancellations?\n",
      "Answer: Context:\n",
      "Booking made from USA on 2017-04-27. Stayed for 1 weekend nights and 0 weekday nights. Lead time: 64 days. Market Segment: Direct. ADR: 265.0. Booking status: Cancelled.\n",
      "Booking made from USA on 2017-04-04. Stayed for 2 weekend nights and 5 weekday nights. Lead time: 77 days. Market Segment: Direct. ADR: 311.0. Booking status: Cancelled.\n",
      "Booking made from USA on 2017-04-08. Stayed for 2 weekend nights and 3 weekday nights. Lead time: 76 days. Market Segment: Direct. ADR: 265.0. Booking status: Cancelled.\n",
      "Booking made from USA on 2016-01-09. Stayed for 2 weekend nights and 6 weekday nights. Lead time: 74 days. Market Segment: Direct. ADR: 155.5. Booking status: Cancelled.\n",
      "Booking made from USA on 2017-03-23. Stayed for 0 weekend nights and 1 weekday nights. Lead time: 316 days. Market Segment: Direct. ADR: 93.5. Booking status: Cancelled.\n",
      "\n",
      "Question: Which locations had the highest booking cancellations?\n",
      "Answer: All of them.\n",
      "\n",
      "Question: What is the lead time for this property?\n",
      "Answer: 6 weeks.\n",
      "\n",
      "Question: How long does it take\n",
      "\n",
      "Question: What is the average price of a hotel booking?\n",
      "Answer: Context:\n",
      "Booking made from USA on 2017-10-01. Stayed for 1 weekend nights and 0 weekday nights. Lead time: 0 days. Market Segment: Online TA. ADR: 30.99. Booking status: Confirmed.\n",
      "Booking made from USA on 2015-11-10. Stayed for 0 weekend nights and 4 weekday nights. Lead time: 0 days. Market Segment: Online TA. ADR: 159.75. Booking status: Confirmed.\n",
      "Booking made from USA on 2015-11-14. Stayed for 0 weekend nights and 1 weekday nights. Lead time: 109 days. Market Segment: Direct. ADR: 74.8. Booking status: Confirmed.\n",
      "Booking made from USA on 2016-05-20. Stayed for 1 weekend nights and 3 weekday nights. Lead time: 5 days. Market Segment: Corporate. ADR: 98.32. Booking status: Confirmed.\n",
      "Booking made from USA on 2017-06-25. Stayed for 0 weekend nights and 1 weekday nights. Lead time: 149 days. Market Segment: Corporate. ADR: 154.0. Booking status: Confirmed.\n",
      "\n",
      "Question: What is the average price of a hotel booking?\n",
      "Answer: The answer is - $1,079.\n",
      "\n",
      "Question: How many days does it take to get a hotel booking from my credit card\n"
     ]
    }
   ],
   "source": [
    "import pandas as pd\n",
    "import faiss\n",
    "import numpy as np\n",
    "from sentence_transformers import SentenceTransformer\n",
    "from transformers import pipeline\n",
    "\n",
    "# --- 1. Load the Cleaned Data ---\n",
    "file_path = 'cleaned_hotel_bookings.csv'\n",
    "data = pd.read_csv(file_path)\n",
    "\n",
    "# --- 2. Create Natural Language Representations of Booking Data ---\n",
    "def convert_to_text(row):\n",
    "    \"\"\"Convert a row of booking data into readable text format\"\"\"\n",
    "    text = (\n",
    "        f\"Booking made from {row['country']} on {row['reservation_status_date']}. \"\n",
    "        f\"Stayed for {row['stays_in_weekend_nights']} weekend nights and {row['stays_in_week_nights']} weekday nights. \"\n",
    "        f\"Lead time: {row['lead_time']} days. \"\n",
    "        f\"Market Segment: {row['market_segment']}. \"\n",
    "        f\"ADR: {row['adr']}. \"\n",
    "        f\"Booking status: {'Cancelled' if row['is_canceled'] == 1 else 'Confirmed'}.\"\n",
    "    )\n",
    "    return text\n",
    "\n",
    "# Convert entire dataset to text\n",
    "data['text'] = data.apply(convert_to_text, axis=1)\n",
    "\n",
    "# --- 3. Create Embeddings ---\n",
    "model = SentenceTransformer('sentence-transformers/all-MiniLM-L6-v2')\n",
    "embeddings = model.encode(data['text'].tolist(), convert_to_tensor=False)\n",
    "\n",
    "# --- 4. Store Embeddings in FAISS ---\n",
    "dimension = embeddings.shape[1]\n",
    "index = faiss.IndexFlatL2(dimension)\n",
    "index.add(np.array(embeddings))\n",
    "\n",
    "# --- 5. Define the RAG Q&A Function ---\n",
    "def retrieve_answer(question, top_k=5):\n",
    "    \"\"\"Retrieve relevant booking data using FAISS and generate an answer with LLM\"\"\"\n",
    "    \n",
    "    # Generate question embedding\n",
    "    question_embedding = model.encode([question], convert_to_tensor=False)\n",
    "    \n",
    "    # Search in FAISS index\n",
    "    distances, indices = index.search(np.array(question_embedding), top_k)\n",
    "    \n",
    "    # Retrieve relevant rows\n",
    "    relevant_texts = [data['text'][i] for i in indices[0]]\n",
    "    \n",
    "    # Prepare context for the LLM\n",
    "    context = \"\\n\".join(relevant_texts)\n",
    "\n",
    "    # Use LLM to answer the question\n",
    "    llm = pipeline(\"text-generation\", model=\"EleutherAI/gpt-neo-1.3B\")\n",
    "\n",
    "    # Apply truncation and pad token ID fixes\n",
    "    prompt = f\"Context:\\n{context}\\n\\nQuestion: {question}\\nAnswer:\"\n",
    "    result = llm(\n",
    "        prompt, \n",
    "        max_length=300, \n",
    "        do_sample=True, \n",
    "        temperature=0.7, \n",
    "        truncation=True,                # ✅ Enable truncation\n",
    "        pad_token_id=50256              # ✅ Specify pad_token_id explicitly\n",
    "    )[0]['generated_text']\n",
    "    \n",
    "    return result\n",
    "\n",
    "# --- 6. Example Queries ---\n",
    "print(\"\\nExample Queries:\")\n",
    "queries = [\n",
    "    \"Show me total revenue for July 2017.\",\n",
    "    \"Which locations had the highest booking cancellations?\",\n",
    "    \"What is the average price of a hotel booking?\"\n",
    "]\n",
    "\n",
    "for query in queries:\n",
    "    print(f\"\\nQuestion: {query}\")\n",
    "    answer = retrieve_answer(query)\n",
    "    print(f\"Answer: {answer}\")\n"
   ]
  },
  {
   "cell_type": "code",
   "execution_count": null,
   "id": "2f58e7bb",
   "metadata": {},
   "outputs": [],
   "source": []
  }
 ],
 "metadata": {
  "kernelspec": {
   "display_name": "Python 3 (ipykernel)",
   "language": "python",
   "name": "python3"
  },
  "language_info": {
   "codemirror_mode": {
    "name": "ipython",
    "version": 3
   },
   "file_extension": ".py",
   "mimetype": "text/x-python",
   "name": "python",
   "nbconvert_exporter": "python",
   "pygments_lexer": "ipython3",
   "version": "3.9.12"
  }
 },
 "nbformat": 4,
 "nbformat_minor": 5
}
